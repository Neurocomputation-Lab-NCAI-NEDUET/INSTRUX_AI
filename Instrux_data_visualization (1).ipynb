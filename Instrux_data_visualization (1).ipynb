{
  "cells": [
    {
      "cell_type": "code",
      "execution_count": null,
      "id": "6320f450",
      "metadata": {
        "id": "6320f450"
      },
      "outputs": [],
      "source": [
        "import numpy as np\n",
        "import pandas as pd"
      ]
    },
    {
      "cell_type": "code",
      "execution_count": null,
      "id": "15345b94",
      "metadata": {
        "id": "15345b94"
      },
      "outputs": [],
      "source": [
        "data=pd.read_csv(\"Instrux-Hourly-2022-11-01-To-2022-12-30.csv\")"
      ]
    },
    {
      "cell_type": "code",
      "execution_count": null,
      "id": "0ab89761",
      "metadata": {
        "id": "0ab89761",
        "outputId": "4966ae1f-b4ab-41d7-c1a4-51f23a5fc1d9"
      },
      "outputs": [
        {
          "data": {
            "text/html": [
              "<div>\n",
              "<style scoped>\n",
              "    .dataframe tbody tr th:only-of-type {\n",
              "        vertical-align: middle;\n",
              "    }\n",
              "\n",
              "    .dataframe tbody tr th {\n",
              "        vertical-align: top;\n",
              "    }\n",
              "\n",
              "    .dataframe thead th {\n",
              "        text-align: right;\n",
              "    }\n",
              "</style>\n",
              "<table border=\"1\" class=\"dataframe\">\n",
              "  <thead>\n",
              "    <tr style=\"text-align: right;\">\n",
              "      <th></th>\n",
              "      <th>id</th>\n",
              "      <th>node_mac</th>\n",
              "      <th>device_id</th>\n",
              "      <th>user_id</th>\n",
              "      <th>location_id</th>\n",
              "      <th>timestamp</th>\n",
              "      <th>datetime</th>\n",
              "      <th>datetime_server</th>\n",
              "      <th>frequency</th>\n",
              "      <th>voltagePhaseR</th>\n",
              "      <th>...</th>\n",
              "      <th>voltageHarmonicsCN30</th>\n",
              "      <th>voltageHarmonicsCN31</th>\n",
              "      <th>Unnamed: 339</th>\n",
              "      <th>Unnamed: 340</th>\n",
              "      <th>Unnamed: 341</th>\n",
              "      <th>Unnamed: 342</th>\n",
              "      <th>Unnamed: 343</th>\n",
              "      <th>Unnamed: 344</th>\n",
              "      <th>Unnamed: 345</th>\n",
              "      <th>Unnamed: 346</th>\n",
              "    </tr>\n",
              "  </thead>\n",
              "  <tbody>\n",
              "    <tr>\n",
              "      <th>0</th>\n",
              "      <td>127</td>\n",
              "      <td>84:CC:A8:A9:67:9F</td>\n",
              "      <td>NaN</td>\n",
              "      <td>3</td>\n",
              "      <td>26</td>\n",
              "      <td>1667242808</td>\n",
              "      <td>11/1/2022 0:00</td>\n",
              "      <td>11/1/2022 0:00</td>\n",
              "      <td>50</td>\n",
              "      <td>233.91</td>\n",
              "      <td>...</td>\n",
              "      <td>NaN</td>\n",
              "      <td>NaN</td>\n",
              "      <td>Schneider_PM2120</td>\n",
              "      <td>0</td>\n",
              "      <td>123456</td>\n",
              "      <td>1000</td>\n",
              "      <td>1</td>\n",
              "      <td>400123000</td>\n",
              "      <td>100</td>\n",
              "      <td>0</td>\n",
              "    </tr>\n",
              "    <tr>\n",
              "      <th>1</th>\n",
              "      <td>127</td>\n",
              "      <td>84:CC:A8:A9:67:9F</td>\n",
              "      <td>NaN</td>\n",
              "      <td>3</td>\n",
              "      <td>26</td>\n",
              "      <td>1667246408</td>\n",
              "      <td>11/1/2022 1:00</td>\n",
              "      <td>11/1/2022 1:00</td>\n",
              "      <td>50</td>\n",
              "      <td>239.88</td>\n",
              "      <td>...</td>\n",
              "      <td>NaN</td>\n",
              "      <td>NaN</td>\n",
              "      <td>Schneider_PM2120</td>\n",
              "      <td>0</td>\n",
              "      <td>123456</td>\n",
              "      <td>1000</td>\n",
              "      <td>1</td>\n",
              "      <td>400123000</td>\n",
              "      <td>100</td>\n",
              "      <td>0</td>\n",
              "    </tr>\n",
              "    <tr>\n",
              "      <th>2</th>\n",
              "      <td>127</td>\n",
              "      <td>84:CC:A8:A9:67:9F</td>\n",
              "      <td>NaN</td>\n",
              "      <td>3</td>\n",
              "      <td>26</td>\n",
              "      <td>1667250008</td>\n",
              "      <td>11/1/2022 2:00</td>\n",
              "      <td>11/1/2022 2:00</td>\n",
              "      <td>50</td>\n",
              "      <td>233.43</td>\n",
              "      <td>...</td>\n",
              "      <td>NaN</td>\n",
              "      <td>NaN</td>\n",
              "      <td>Schneider_PM2120</td>\n",
              "      <td>0</td>\n",
              "      <td>123456</td>\n",
              "      <td>1000</td>\n",
              "      <td>1</td>\n",
              "      <td>400123000</td>\n",
              "      <td>100</td>\n",
              "      <td>0</td>\n",
              "    </tr>\n",
              "    <tr>\n",
              "      <th>3</th>\n",
              "      <td>127</td>\n",
              "      <td>84:CC:A8:A9:67:9F</td>\n",
              "      <td>NaN</td>\n",
              "      <td>3</td>\n",
              "      <td>26</td>\n",
              "      <td>1667253608</td>\n",
              "      <td>11/1/2022 3:00</td>\n",
              "      <td>11/1/2022 3:00</td>\n",
              "      <td>50</td>\n",
              "      <td>232.39</td>\n",
              "      <td>...</td>\n",
              "      <td>NaN</td>\n",
              "      <td>NaN</td>\n",
              "      <td>Schneider_PM2120</td>\n",
              "      <td>0</td>\n",
              "      <td>123456</td>\n",
              "      <td>1000</td>\n",
              "      <td>1</td>\n",
              "      <td>400123000</td>\n",
              "      <td>100</td>\n",
              "      <td>0</td>\n",
              "    </tr>\n",
              "    <tr>\n",
              "      <th>4</th>\n",
              "      <td>127</td>\n",
              "      <td>84:CC:A8:A9:67:9F</td>\n",
              "      <td>NaN</td>\n",
              "      <td>3</td>\n",
              "      <td>26</td>\n",
              "      <td>1667257207</td>\n",
              "      <td>11/1/2022 4:00</td>\n",
              "      <td>11/1/2022 4:00</td>\n",
              "      <td>50</td>\n",
              "      <td>232.04</td>\n",
              "      <td>...</td>\n",
              "      <td>NaN</td>\n",
              "      <td>NaN</td>\n",
              "      <td>Schneider_PM2120</td>\n",
              "      <td>0</td>\n",
              "      <td>123456</td>\n",
              "      <td>1000</td>\n",
              "      <td>1</td>\n",
              "      <td>400123000</td>\n",
              "      <td>100</td>\n",
              "      <td>0</td>\n",
              "    </tr>\n",
              "  </tbody>\n",
              "</table>\n",
              "<p>5 rows × 347 columns</p>\n",
              "</div>"
            ],
            "text/plain": [
              "    id           node_mac  device_id  user_id  location_id   timestamp  \\\n",
              "0  127  84:CC:A8:A9:67:9F        NaN        3           26  1667242808   \n",
              "1  127  84:CC:A8:A9:67:9F        NaN        3           26  1667246408   \n",
              "2  127  84:CC:A8:A9:67:9F        NaN        3           26  1667250008   \n",
              "3  127  84:CC:A8:A9:67:9F        NaN        3           26  1667253608   \n",
              "4  127  84:CC:A8:A9:67:9F        NaN        3           26  1667257207   \n",
              "\n",
              "         datetime datetime_server  frequency  voltagePhaseR  ...  \\\n",
              "0  11/1/2022 0:00  11/1/2022 0:00         50         233.91  ...   \n",
              "1  11/1/2022 1:00  11/1/2022 1:00         50         239.88  ...   \n",
              "2  11/1/2022 2:00  11/1/2022 2:00         50         233.43  ...   \n",
              "3  11/1/2022 3:00  11/1/2022 3:00         50         232.39  ...   \n",
              "4  11/1/2022 4:00  11/1/2022 4:00         50         232.04  ...   \n",
              "\n",
              "   voltageHarmonicsCN30  voltageHarmonicsCN31      Unnamed: 339  Unnamed: 340  \\\n",
              "0                   NaN                   NaN  Schneider_PM2120             0   \n",
              "1                   NaN                   NaN  Schneider_PM2120             0   \n",
              "2                   NaN                   NaN  Schneider_PM2120             0   \n",
              "3                   NaN                   NaN  Schneider_PM2120             0   \n",
              "4                   NaN                   NaN  Schneider_PM2120             0   \n",
              "\n",
              "   Unnamed: 341  Unnamed: 342  Unnamed: 343  Unnamed: 344  Unnamed: 345  \\\n",
              "0        123456          1000             1     400123000           100   \n",
              "1        123456          1000             1     400123000           100   \n",
              "2        123456          1000             1     400123000           100   \n",
              "3        123456          1000             1     400123000           100   \n",
              "4        123456          1000             1     400123000           100   \n",
              "\n",
              "   Unnamed: 346  \n",
              "0             0  \n",
              "1             0  \n",
              "2             0  \n",
              "3             0  \n",
              "4             0  \n",
              "\n",
              "[5 rows x 347 columns]"
            ]
          },
          "execution_count": 3,
          "metadata": {},
          "output_type": "execute_result"
        }
      ],
      "source": [
        "data.head()"
      ]
    },
    {
      "cell_type": "code",
      "execution_count": null,
      "id": "8f809175",
      "metadata": {
        "id": "8f809175"
      },
      "outputs": [],
      "source": [
        "d=data[['energyValue','datetime']]\n"
      ]
    },
    {
      "cell_type": "code",
      "execution_count": null,
      "id": "08b5f61d",
      "metadata": {
        "id": "08b5f61d",
        "outputId": "ad508796-d41e-409a-b65f-32b3646adec8"
      },
      "outputs": [
        {
          "data": {
            "text/html": [
              "<div>\n",
              "<style scoped>\n",
              "    .dataframe tbody tr th:only-of-type {\n",
              "        vertical-align: middle;\n",
              "    }\n",
              "\n",
              "    .dataframe tbody tr th {\n",
              "        vertical-align: top;\n",
              "    }\n",
              "\n",
              "    .dataframe thead th {\n",
              "        text-align: right;\n",
              "    }\n",
              "</style>\n",
              "<table border=\"1\" class=\"dataframe\">\n",
              "  <thead>\n",
              "    <tr style=\"text-align: right;\">\n",
              "      <th></th>\n",
              "      <th>energyValue</th>\n",
              "      <th>datetime</th>\n",
              "    </tr>\n",
              "  </thead>\n",
              "  <tbody>\n",
              "    <tr>\n",
              "      <th>0</th>\n",
              "      <td>4873345.0</td>\n",
              "      <td>11/1/2022 0:00</td>\n",
              "    </tr>\n",
              "    <tr>\n",
              "      <th>1</th>\n",
              "      <td>4873588.5</td>\n",
              "      <td>11/1/2022 1:00</td>\n",
              "    </tr>\n",
              "    <tr>\n",
              "      <th>2</th>\n",
              "      <td>4873778.5</td>\n",
              "      <td>11/1/2022 2:00</td>\n",
              "    </tr>\n",
              "    <tr>\n",
              "      <th>3</th>\n",
              "      <td>4874008.5</td>\n",
              "      <td>11/1/2022 3:00</td>\n",
              "    </tr>\n",
              "    <tr>\n",
              "      <th>4</th>\n",
              "      <td>4874253.5</td>\n",
              "      <td>11/1/2022 4:00</td>\n",
              "    </tr>\n",
              "  </tbody>\n",
              "</table>\n",
              "</div>"
            ],
            "text/plain": [
              "   energyValue        datetime\n",
              "0    4873345.0  11/1/2022 0:00\n",
              "1    4873588.5  11/1/2022 1:00\n",
              "2    4873778.5  11/1/2022 2:00\n",
              "3    4874008.5  11/1/2022 3:00\n",
              "4    4874253.5  11/1/2022 4:00"
            ]
          },
          "execution_count": 8,
          "metadata": {},
          "output_type": "execute_result"
        }
      ],
      "source": [
        "d.head()"
      ]
    },
    {
      "cell_type": "code",
      "execution_count": null,
      "id": "55417e62",
      "metadata": {
        "id": "55417e62"
      },
      "outputs": [],
      "source": [
        "columns = [\"energyValue\"]\n",
        "df = pd.read_csv(\"Instrux-Hourly-2022-11-01-To-2022-12-30.csv\", usecols=columns)\n",
        "df1=df.diff()\n",
        "#df1=df1.dropna()\n",
        "df1.to_csv(\"Energy_diff_hourly_2022-11-01-To-2022-12-30.csv\")"
      ]
    },
    {
      "cell_type": "code",
      "execution_count": null,
      "id": "15c93547",
      "metadata": {
        "id": "15c93547",
        "outputId": "cf3d865c-9b88-4de3-8968-d2032ca4d252"
      },
      "outputs": [
        {
          "data": {
            "text/html": [
              "<div>\n",
              "<style scoped>\n",
              "    .dataframe tbody tr th:only-of-type {\n",
              "        vertical-align: middle;\n",
              "    }\n",
              "\n",
              "    .dataframe tbody tr th {\n",
              "        vertical-align: top;\n",
              "    }\n",
              "\n",
              "    .dataframe thead th {\n",
              "        text-align: right;\n",
              "    }\n",
              "</style>\n",
              "<table border=\"1\" class=\"dataframe\">\n",
              "  <thead>\n",
              "    <tr style=\"text-align: right;\">\n",
              "      <th></th>\n",
              "      <th>Unnamed: 0</th>\n",
              "      <th>energyValue</th>\n",
              "    </tr>\n",
              "  </thead>\n",
              "  <tbody>\n",
              "    <tr>\n",
              "      <th>1</th>\n",
              "      <td>1</td>\n",
              "      <td>243.5</td>\n",
              "    </tr>\n",
              "    <tr>\n",
              "      <th>2</th>\n",
              "      <td>2</td>\n",
              "      <td>190.0</td>\n",
              "    </tr>\n",
              "    <tr>\n",
              "      <th>3</th>\n",
              "      <td>3</td>\n",
              "      <td>230.0</td>\n",
              "    </tr>\n",
              "    <tr>\n",
              "      <th>4</th>\n",
              "      <td>4</td>\n",
              "      <td>245.0</td>\n",
              "    </tr>\n",
              "    <tr>\n",
              "      <th>5</th>\n",
              "      <td>5</td>\n",
              "      <td>240.0</td>\n",
              "    </tr>\n",
              "    <tr>\n",
              "      <th>...</th>\n",
              "      <td>...</td>\n",
              "      <td>...</td>\n",
              "    </tr>\n",
              "    <tr>\n",
              "      <th>1017</th>\n",
              "      <td>1017</td>\n",
              "      <td>320.5</td>\n",
              "    </tr>\n",
              "    <tr>\n",
              "      <th>1018</th>\n",
              "      <td>1018</td>\n",
              "      <td>291.0</td>\n",
              "    </tr>\n",
              "    <tr>\n",
              "      <th>1019</th>\n",
              "      <td>1019</td>\n",
              "      <td>256.0</td>\n",
              "    </tr>\n",
              "    <tr>\n",
              "      <th>1020</th>\n",
              "      <td>1020</td>\n",
              "      <td>229.0</td>\n",
              "    </tr>\n",
              "    <tr>\n",
              "      <th>1021</th>\n",
              "      <td>1021</td>\n",
              "      <td>207.0</td>\n",
              "    </tr>\n",
              "  </tbody>\n",
              "</table>\n",
              "<p>1021 rows × 2 columns</p>\n",
              "</div>"
            ],
            "text/plain": [
              "      Unnamed: 0  energyValue\n",
              "1              1        243.5\n",
              "2              2        190.0\n",
              "3              3        230.0\n",
              "4              4        245.0\n",
              "5              5        240.0\n",
              "...          ...          ...\n",
              "1017        1017        320.5\n",
              "1018        1018        291.0\n",
              "1019        1019        256.0\n",
              "1020        1020        229.0\n",
              "1021        1021        207.0\n",
              "\n",
              "[1021 rows x 2 columns]"
            ]
          },
          "execution_count": 47,
          "metadata": {},
          "output_type": "execute_result"
        }
      ],
      "source": [
        "df2 = pd.read_csv(\"Energy_diff_hourly_2022-11-01-To-2022-12-30.csv\")\n",
        "#df2=df2.dropna()\n",
        "df2=df2.dropna()\n"
      ]
    },
    {
      "cell_type": "code",
      "execution_count": null,
      "id": "2f909d1e",
      "metadata": {
        "id": "2f909d1e"
      },
      "outputs": [],
      "source": []
    },
    {
      "cell_type": "code",
      "execution_count": null,
      "id": "eec516cb",
      "metadata": {
        "id": "eec516cb"
      },
      "outputs": [],
      "source": [
        "data=pd.read_csv(\"Instrux-Daily-Report-26-Location-127-Device-From-2022-11-01-To-2022-12-30.csv\")"
      ]
    },
    {
      "cell_type": "code",
      "execution_count": null,
      "id": "d01187f2",
      "metadata": {
        "id": "d01187f2"
      },
      "outputs": [],
      "source": [
        "d=data['energyValue']"
      ]
    },
    {
      "cell_type": "code",
      "execution_count": null,
      "id": "62f6f7ab",
      "metadata": {
        "id": "62f6f7ab"
      },
      "outputs": [],
      "source": [
        "d1=d.diff()"
      ]
    },
    {
      "cell_type": "code",
      "execution_count": null,
      "id": "c992ef8e",
      "metadata": {
        "id": "c992ef8e"
      },
      "outputs": [],
      "source": [
        "d1.to_csv(\"Instrux-Daily-energy_2022-11-01-To-2022-12-30.csv\")"
      ]
    },
    {
      "cell_type": "code",
      "execution_count": null,
      "id": "e4082da8",
      "metadata": {
        "id": "e4082da8"
      },
      "outputs": [],
      "source": [
        "import pandas as pd\n",
        "from matplotlib import pyplot as plt\n",
        "plt.rcParams[\"figure.figsize\"] = [27.00, 13.50]\n",
        "plt.rcParams[\"figure.autolayout\"] = True\n",
        "columns = [\"energyValue\", \"datetime\"]\n",
        "df_1= pd.read_csv(\"Instrux-Hourly-2022-11-01-To-2022-12-30.csv\", usecols=columns)\n",
        "df=df_1.head()\n",
        "print(\"Contents in csv file:\", df)\n",
        "plt.plot(df.datetime,df.energyValue)\n",
        "plt.show()"
      ]
    },
    {
      "cell_type": "code",
      "execution_count": null,
      "id": "9dfeb111",
      "metadata": {
        "id": "9dfeb111"
      },
      "outputs": [],
      "source": []
    },
    {
      "cell_type": "code",
      "execution_count": null,
      "id": "4c4e1623",
      "metadata": {
        "id": "4c4e1623"
      },
      "outputs": [],
      "source": []
    },
    {
      "cell_type": "code",
      "execution_count": null,
      "id": "d7ada35f",
      "metadata": {
        "id": "d7ada35f",
        "outputId": "62c3943c-0039-4603-bd29-d3ad58cdcbe5"
      },
      "outputs": [
        {
          "data": {
            "text/html": [
              "<div>\n",
              "<style scoped>\n",
              "    .dataframe tbody tr th:only-of-type {\n",
              "        vertical-align: middle;\n",
              "    }\n",
              "\n",
              "    .dataframe tbody tr th {\n",
              "        vertical-align: top;\n",
              "    }\n",
              "\n",
              "    .dataframe thead th {\n",
              "        text-align: right;\n",
              "    }\n",
              "</style>\n",
              "<table border=\"1\" class=\"dataframe\">\n",
              "  <thead>\n",
              "    <tr style=\"text-align: right;\">\n",
              "      <th></th>\n",
              "      <th>Hour</th>\n",
              "      <th>energyValue</th>\n",
              "    </tr>\n",
              "  </thead>\n",
              "  <tbody>\n",
              "    <tr>\n",
              "      <th>0</th>\n",
              "      <td>1</td>\n",
              "      <td>243.5</td>\n",
              "    </tr>\n",
              "    <tr>\n",
              "      <th>1</th>\n",
              "      <td>2</td>\n",
              "      <td>190.0</td>\n",
              "    </tr>\n",
              "    <tr>\n",
              "      <th>2</th>\n",
              "      <td>3</td>\n",
              "      <td>230.0</td>\n",
              "    </tr>\n",
              "    <tr>\n",
              "      <th>3</th>\n",
              "      <td>4</td>\n",
              "      <td>245.0</td>\n",
              "    </tr>\n",
              "    <tr>\n",
              "      <th>4</th>\n",
              "      <td>5</td>\n",
              "      <td>240.0</td>\n",
              "    </tr>\n",
              "  </tbody>\n",
              "</table>\n",
              "</div>"
            ],
            "text/plain": [
              "   Hour  energyValue\n",
              "0     1        243.5\n",
              "1     2        190.0\n",
              "2     3        230.0\n",
              "3     4        245.0\n",
              "4     5        240.0"
            ]
          },
          "execution_count": 54,
          "metadata": {},
          "output_type": "execute_result"
        }
      ],
      "source": [
        "import pandas as pd\n",
        "data = pd.read_csv(\"Energy_diff_hourly_2022-11-01-To-2022-12-30.csv\")\n",
        "data.head()\n"
      ]
    },
    {
      "cell_type": "code",
      "execution_count": null,
      "id": "b7b4dca2",
      "metadata": {
        "id": "b7b4dca2",
        "outputId": "8859bc73-8ed5-4c9d-8a98-9caf2a72be9f"
      },
      "outputs": [
        {
          "data": {
            "image/png": "[encoded data removed]",
            "text/plain": [
              "<Figure size 1944x972 with 1 Axes>"
            ]
          },
          "metadata": {
            "needs_background": "light"
          },
          "output_type": "display_data"
        }
      ],
      "source": [
        "import seaborn as sns\n",
        "import matplotlib.pyplot as plt\n",
        "\n",
        "data = pd.read_csv(\"Instrux-Daily-energy_2022-11-01-To-2022-12-30_1.csv\")\n",
        "#df = pd.DataFrame(data)\n",
        "\n",
        "# Create the bar plot\n",
        "sns.barplot(x='Day',y='energyValue', data=data)\n",
        "\n",
        "# Show the plot\n",
        "plt.show()"
      ]
    },
    {
      "cell_type": "code",
      "execution_count": null,
      "id": "2729e5db",
      "metadata": {
        "id": "2729e5db",
        "outputId": "6de27db4-f9e8-4958-f91c-72ba60ad8cff"
      },
      "outputs": [
        {
          "data": {
            "image/png": "[encoded data removed]",
            "text/plain": [
              "<Figure size 1944x972 with 1 Axes>"
            ]
          },
          "metadata": {
            "needs_background": "light"
          },
          "output_type": "display_data"
        }
      ],
      "source": [
        "import seaborn as sns\n",
        "import matplotlib.pyplot as plt\n",
        "\n",
        "data = pd.read_csv(\"Instrux-Daily-energy_2022-11-01-To-2022-12-30_2.csv\")\n",
        "#df = pd.DataFrame(data)\n",
        "\n",
        "# Create the bar plot\n",
        "sns.barplot(x='Day',y='energyValue', data=data)\n",
        "\n",
        "# Show the plot\n",
        "plt.show()"
      ]
    },
    {
      "cell_type": "code",
      "execution_count": null,
      "id": "73863695",
      "metadata": {
        "id": "73863695",
        "outputId": "5bb3eb8e-487d-41d2-e39a-a4b781336601"
      },
      "outputs": [
        {
          "data": {
            "image/png": "[encoded data removed]",
            "text/plain": [
              "<Figure size 1944x972 with 1 Axes>"
            ]
          },
          "metadata": {
            "needs_background": "light"
          },
          "output_type": "display_data"
        }
      ],
      "source": [
        "import seaborn as sns\n",
        "import matplotlib.pyplot as plt\n",
        "\n",
        "data = pd.read_csv(\"Instrux-Daily-energy_2022-11-01-To-2022-12-30_3.csv\")\n",
        "#df = pd.DataFrame(data)\n",
        "\n",
        "# Create the bar plot\n",
        "sns.barplot(x='Day',y='energyValue', data=data)\n",
        "\n",
        "# Show the plot\n",
        "plt.show()"
      ]
    },
    {
      "cell_type": "code",
      "execution_count": null,
      "id": "d219df4c",
      "metadata": {
        "id": "d219df4c"
      },
      "outputs": [],
      "source": []
    }
  ],
  "metadata": {
    "kernelspec": {
      "display_name": "Python 3 (ipykernel)",
      "language": "python",
      "name": "python3"
    },
    "language_info": {
      "codemirror_mode": {
        "name": "ipython",
        "version": 3
      },
      "file_extension": ".py",
      "mimetype": "text/x-python",
      "name": "python",
      "nbconvert_exporter": "python",
      "pygments_lexer": "ipython3",
      "version": "3.10.5"
    },
    "colab": {
      "provenance": []
    }
  },
  "nbformat": 4,
  "nbformat_minor": 5
}